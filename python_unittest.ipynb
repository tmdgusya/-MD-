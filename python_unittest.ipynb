{
  "nbformat": 4,
  "nbformat_minor": 0,
  "metadata": {
    "colab": {
      "provenance": [],
      "collapsed_sections": [
        "hFe9ymwudW5i",
        "5s99UGSlhywu",
        "DZxCpBnAjcIW"
      ],
      "toc_visible": true,
      "authorship_tag": "ABX9TyNOJhHq0mWro4DtJAmEQM9r",
      "include_colab_link": true
    },
    "kernelspec": {
      "name": "python3",
      "display_name": "Python 3"
    },
    "language_info": {
      "name": "python"
    }
  },
  "cells": [
    {
      "cell_type": "markdown",
      "metadata": {
        "id": "view-in-github",
        "colab_type": "text"
      },
      "source": [
        "<a href=\"https://colab.research.google.com/github/tmdgusya/-MD-/blob/main/python_unittest.ipynb\" target=\"_parent\"><img src=\"https://colab.research.google.com/assets/colab-badge.svg\" alt=\"Open In Colab\"/></a>"
      ]
    },
    {
      "cell_type": "markdown",
      "source": [
        "# Pytest tutorial\n",
        "\n",
        "모의 객체(Mock object) 사용하기.\n",
        "\n",
        "- 알아두면 좋은점 PYTEST 에서는 **PATCHING** 이라는 단어가 자주 나오는데 이는 테스트 기간동안만 임시로 교체한다는 뉘앙스를 지니고 있음"
      ],
      "metadata": {
        "id": "IQGH-ZFoYznt"
      }
    },
    {
      "cell_type": "code",
      "execution_count": 1,
      "metadata": {
        "id": "ACwU3vfmXNDG"
      },
      "outputs": [],
      "source": [
        "class ProductClass:\n",
        "  def method(self):\n",
        "    return self.something(1, 2, 3)\n",
        "  def something(self, a, b, c):\n",
        "    print(a, b, c)"
      ]
    },
    {
      "cell_type": "code",
      "source": [
        "from unittest.mock import MagicMock\n",
        "\n",
        "real = ProductClass()\n",
        "real.something = MagicMock()\n",
        "\n",
        "real.method()\n",
        "\n",
        "real.something.assert_called_once_with(1, 2, 3)"
      ],
      "metadata": {
        "id": "sypZmMMkXo57"
      },
      "execution_count": 2,
      "outputs": []
    },
    {
      "cell_type": "markdown",
      "source": [
        "## 호출추적\n",
        "\n",
        "기본적으로 `Mock` 객체는 아래와 같이 호출된 모든 메소드를 기록함."
      ],
      "metadata": {
        "id": "hFe9ymwudW5i"
      }
    },
    {
      "cell_type": "code",
      "source": [
        "mock = MagicMock()\n",
        "mock.method()\n",
        "mock.attribute.method(10, x=53)\n",
        "mock.mock_calls"
      ],
      "metadata": {
        "colab": {
          "base_uri": "https://localhost:8080/"
        },
        "id": "dCbm1_GbdbG1",
        "outputId": "169892c2-a89c-40de-a98a-97bd6d5a5b2d"
      },
      "execution_count": 18,
      "outputs": [
        {
          "output_type": "execute_result",
          "data": {
            "text/plain": [
              "[call.method(), call.attribute.method(10, x=53)]"
            ]
          },
          "metadata": {},
          "execution_count": 18
        }
      ]
    },
    {
      "cell_type": "markdown",
      "source": [
        "따라서 아래와 같은 방법으로 **특정 인자와 함께** 메소드가 호출되었는지 안되었는지 테스트 해볼수 있음."
      ],
      "metadata": {
        "id": "2HPe3wYIdg5B"
      }
    },
    {
      "cell_type": "code",
      "source": [
        "mock.method.assert_called_once_with()\n",
        "mock.attribute.method.assert_called_once_with(10, x=53)"
      ],
      "metadata": {
        "id": "4mcn_9fcdroN"
      },
      "execution_count": 19,
      "outputs": []
    },
    {
      "cell_type": "markdown",
      "source": [
        "만약에 attribute 가 중복 호출되는 경우에는 어떻게 체크할까?"
      ],
      "metadata": {
        "id": "UFuYq52CeDej"
      }
    },
    {
      "cell_type": "code",
      "source": [
        "mock.attribute.method(10, x=43)\n",
        "mock.mock_calls"
      ],
      "metadata": {
        "colab": {
          "base_uri": "https://localhost:8080/"
        },
        "id": "5LCzrVdQeILx",
        "outputId": "c0c9d3f8-b5c0-4f5f-9f69-895c58eaacb8"
      },
      "execution_count": 20,
      "outputs": [
        {
          "output_type": "execute_result",
          "data": {
            "text/plain": [
              "[call.method(),\n",
              " call.attribute.method(10, x=53),\n",
              " call.attribute.method(10, x=43)]"
            ]
          },
          "metadata": {},
          "execution_count": 20
        }
      ]
    },
    {
      "cell_type": "code",
      "source": [
        "mock.attribute.method.assert_called_with(10, x=43)\n",
        "mock.attribute.method.assert_called_with(10, x=53)"
      ],
      "metadata": {
        "colab": {
          "base_uri": "https://localhost:8080/",
          "height": 329
        },
        "id": "RaSKjdnUeP7j",
        "outputId": "2e79780e-7431-4f4e-ea02-6ddb0d8af027"
      },
      "execution_count": 22,
      "outputs": [
        {
          "output_type": "error",
          "ename": "AssertionError",
          "evalue": "expected call not found.\nExpected: method(10, x=53)\n  Actual: method(10, x=43)",
          "traceback": [
            "\u001b[0;31m---------------------------------------------------------------------------\u001b[0m",
            "\u001b[0;31mAssertionError\u001b[0m                            Traceback (most recent call last)",
            "\u001b[0;32m<ipython-input-22-f3363d4c5c09>\u001b[0m in \u001b[0;36m<cell line: 0>\u001b[0;34m()\u001b[0m\n\u001b[1;32m      1\u001b[0m \u001b[0mmock\u001b[0m\u001b[0;34m.\u001b[0m\u001b[0mattribute\u001b[0m\u001b[0;34m.\u001b[0m\u001b[0mmethod\u001b[0m\u001b[0;34m.\u001b[0m\u001b[0massert_called_with\u001b[0m\u001b[0;34m(\u001b[0m\u001b[0;36m10\u001b[0m\u001b[0;34m,\u001b[0m \u001b[0mx\u001b[0m\u001b[0;34m=\u001b[0m\u001b[0;36m43\u001b[0m\u001b[0;34m)\u001b[0m\u001b[0;34m\u001b[0m\u001b[0;34m\u001b[0m\u001b[0m\n\u001b[0;32m----> 2\u001b[0;31m \u001b[0mmock\u001b[0m\u001b[0;34m.\u001b[0m\u001b[0mattribute\u001b[0m\u001b[0;34m.\u001b[0m\u001b[0mmethod\u001b[0m\u001b[0;34m.\u001b[0m\u001b[0massert_called_with\u001b[0m\u001b[0;34m(\u001b[0m\u001b[0;36m10\u001b[0m\u001b[0;34m,\u001b[0m \u001b[0mx\u001b[0m\u001b[0;34m=\u001b[0m\u001b[0;36m53\u001b[0m\u001b[0;34m)\u001b[0m\u001b[0;34m\u001b[0m\u001b[0;34m\u001b[0m\u001b[0m\n\u001b[0m",
            "\u001b[0;32m/usr/lib/python3.11/unittest/mock.py\u001b[0m in \u001b[0;36massert_called_with\u001b[0;34m(self, *args, **kwargs)\u001b[0m\n\u001b[1;32m    937\u001b[0m         \u001b[0;32mif\u001b[0m \u001b[0mactual\u001b[0m \u001b[0;34m!=\u001b[0m \u001b[0mexpected\u001b[0m\u001b[0;34m:\u001b[0m\u001b[0;34m\u001b[0m\u001b[0;34m\u001b[0m\u001b[0m\n\u001b[1;32m    938\u001b[0m             \u001b[0mcause\u001b[0m \u001b[0;34m=\u001b[0m \u001b[0mexpected\u001b[0m \u001b[0;32mif\u001b[0m \u001b[0misinstance\u001b[0m\u001b[0;34m(\u001b[0m\u001b[0mexpected\u001b[0m\u001b[0;34m,\u001b[0m \u001b[0mException\u001b[0m\u001b[0;34m)\u001b[0m \u001b[0;32melse\u001b[0m \u001b[0;32mNone\u001b[0m\u001b[0;34m\u001b[0m\u001b[0;34m\u001b[0m\u001b[0m\n\u001b[0;32m--> 939\u001b[0;31m             \u001b[0;32mraise\u001b[0m \u001b[0mAssertionError\u001b[0m\u001b[0;34m(\u001b[0m\u001b[0m_error_message\u001b[0m\u001b[0;34m(\u001b[0m\u001b[0;34m)\u001b[0m\u001b[0;34m)\u001b[0m \u001b[0;32mfrom\u001b[0m \u001b[0mcause\u001b[0m\u001b[0;34m\u001b[0m\u001b[0;34m\u001b[0m\u001b[0m\n\u001b[0m\u001b[1;32m    940\u001b[0m \u001b[0;34m\u001b[0m\u001b[0m\n\u001b[1;32m    941\u001b[0m \u001b[0;34m\u001b[0m\u001b[0m\n",
            "\u001b[0;31mAssertionError\u001b[0m: expected call not found.\nExpected: method(10, x=53)\n  Actual: method(10, x=43)"
          ]
        }
      ]
    },
    {
      "cell_type": "markdown",
      "source": [
        "위와 같은 방법으로 테스트 하게 되면 에러가 발생하게 됨. 그 이유는 `assert_called_with` 의 주석을 살펴보면 **마지막 호출이 특정 인자와 함께 호출되었는지 검증(assert that the last call was made with the specified arguments)** 라고 적혀있음.\n",
        "\n",
        "따라서 위와 같은 상황에서는 라이브러리를 살펴보면 `assert_any_call` 을 사용하는 것이 합당해 보임. `assert_any_call` 은 **모의 객체가 특정 인자와 함께 호출되었는지 검증(assert the mock has been called with the specified arguments)** 이기 때문에 이 메소드를 이용해야 함."
      ],
      "metadata": {
        "id": "wzSpeoc4ecfx"
      }
    },
    {
      "cell_type": "code",
      "source": [
        "mock.attribute.method.assert_any_call(10, x=43)\n",
        "mock.attribute.method.assert_any_call(10, x=53)"
      ],
      "metadata": {
        "id": "Tl4Ybp8heatU"
      },
      "execution_count": 23,
      "outputs": []
    },
    {
      "cell_type": "markdown",
      "source": [
        "## 반환값과 속성값 설정\n",
        "\n",
        "이 부분은 위에서 봐서 익숙할 수 있음. 그리고 매우 쉽고 간단하다."
      ],
      "metadata": {
        "id": "5s99UGSlhywu"
      }
    },
    {
      "cell_type": "code",
      "source": [
        "mock = MagicMock()\n",
        "mock.get_name.return_value = \"roach\"\n",
        "mock.get_name()"
      ],
      "metadata": {
        "colab": {
          "base_uri": "https://localhost:8080/",
          "height": 35
        },
        "id": "hKrv-WZUiZ4J",
        "outputId": "9e696586-dc11-421c-ec12-ab39a1c29921"
      },
      "execution_count": 40,
      "outputs": [
        {
          "output_type": "execute_result",
          "data": {
            "text/plain": [
              "'roach'"
            ],
            "application/vnd.google.colaboratory.intrinsic+json": {
              "type": "string"
            }
          },
          "metadata": {},
          "execution_count": 40
        }
      ]
    },
    {
      "cell_type": "code",
      "source": [
        "mock.name = \"roach\"\n",
        "mock.name"
      ],
      "metadata": {
        "colab": {
          "base_uri": "https://localhost:8080/",
          "height": 35
        },
        "id": "ruxU8qePiosx",
        "outputId": "a8af7fd7-1ae9-4731-a89b-5c733c1fd577"
      },
      "execution_count": 41,
      "outputs": [
        {
          "output_type": "execute_result",
          "data": {
            "text/plain": [
              "'roach'"
            ],
            "application/vnd.google.colaboratory.intrinsic+json": {
              "type": "string"
            }
          },
          "metadata": {},
          "execution_count": 41
        }
      ]
    },
    {
      "cell_type": "markdown",
      "source": [
        "## 예외 발생시키기\n",
        "\n",
        "이번에는 예외를 발생시키는 개념을 알아보겠습니다. 만약 `AService` 에서 `ARepository` 를 이용하고 있는데, `Arepository` 의 `find_by_id` 에서 예외가 나는 경우를 한번 만들어보도록 하겠습니다."
      ],
      "metadata": {
        "id": "DZxCpBnAjcIW"
      }
    },
    {
      "cell_type": "code",
      "source": [
        "class ARepository:\n",
        "  def __init__(self, db_connection) -> None:\n",
        "    self.db_connection = db_connection\n",
        "\n",
        "  def find_by_id(self):\n",
        "    return self.db_connection.find_by_id()\n",
        "\n",
        "class AService:\n",
        "\n",
        "  def __init__(self, repository) -> None:\n",
        "    self.repository = repository\n",
        "\n",
        "  def find_by_id(self):\n",
        "    return self.repository.find_by_id()"
      ],
      "metadata": {
        "id": "FEmr3upjjvQj"
      },
      "execution_count": 42,
      "outputs": []
    },
    {
      "cell_type": "code",
      "source": [
        "mock_repository = MagicMock()\n",
        "mock_repository.find_by_id.side_effect = Exception(\"error\") # set exception\n",
        "service = AService(repository=mock_repository)\n",
        "\n",
        "try:\n",
        "  service.find_by_id()\n",
        "except Exception as e:\n",
        "  print(e) # error"
      ],
      "metadata": {
        "colab": {
          "base_uri": "https://localhost:8080/"
        },
        "id": "_cdCosfZkB6Y",
        "outputId": "6bd2facb-0c82-4d7c-e28c-06de52de15ca"
      },
      "execution_count": 44,
      "outputs": [
        {
          "output_type": "stream",
          "name": "stdout",
          "text": [
            "error\n"
          ]
        }
      ]
    },
    {
      "cell_type": "markdown",
      "source": [
        "## 순차적인 동일함수 호출 모킹\n",
        "\n",
        "`side_effect` 는 순차적으로 실행되는 동일함수를 모킹할때도 동일하게 이용할 수 있습니다."
      ],
      "metadata": {
        "id": "T095c2G5lAnC"
      }
    },
    {
      "cell_type": "markdown",
      "source": [
        "## patch\n",
        "\n",
        "위에서 patching 에 대해 이야기 했듯이 unittest 에서는 `patch` 라는 함수를 제공한다. 아래 예시와 같이 `request` 의 `get` 함수도 모킹가능하다. 실제 우리가 자주 사용하는 `util` 함수 혹은 함수의 인자로 받지 않는 것들, 혹은 우리가 통제하지 않는 코드 모듈을 모킹할때 이용하면 편하다.\n"
      ],
      "metadata": {
        "id": "zIgpdCEyYy7P"
      }
    },
    {
      "cell_type": "code",
      "source": [
        "import requests\n",
        "\n",
        "def get_naver():\n",
        "  response = requests.get(\"https://www.naver.com\")\n",
        "  print(f\"response: {response.status_code}\")\n",
        "  if response.status_code == 200:\n",
        "    return \"success\"\n",
        "  else:\n",
        "    return \"failure\""
      ],
      "metadata": {
        "id": "H4pSEU3Oftnk"
      },
      "execution_count": 34,
      "outputs": []
    },
    {
      "cell_type": "code",
      "source": [
        "from unittest.mock import patch\n",
        "\n",
        "with patch(\"requests.get\") as mock:\n",
        "  print(f\"Instance: {mock}\") # Instance: <MagicMock name='abs.instance' id='139804934001680'>\n",
        "  mock_response = MagicMock()\n",
        "  mock_response.status_code = 200\n",
        "  mock.return_value = mock_response\n",
        "\n",
        "  assert get_naver() == \"success\""
      ],
      "metadata": {
        "colab": {
          "base_uri": "https://localhost:8080/"
        },
        "id": "M5gWdcXkbP0U",
        "outputId": "f5048435-6896-4f48-b1db-38b062697289"
      },
      "execution_count": 38,
      "outputs": [
        {
          "output_type": "stream",
          "name": "stdout",
          "text": [
            "Instance: <MagicMock name='get' id='139804874593424'>\n",
            "response: 200\n"
          ]
        }
      ]
    },
    {
      "cell_type": "code",
      "source": [
        "from collections import namedtuple\n",
        "\n",
        "Product = namedtuple('Product', ['name', 'price'])\n",
        "product1 = Product('apple', 1000)\n",
        "product2 = Product('banana', 2000)\n",
        "product3 = Product('orange', 3000)\n",
        "\n",
        "products = [product1, product2, product3]\n",
        "\n",
        "products"
      ],
      "metadata": {
        "colab": {
          "base_uri": "https://localhost:8080/"
        },
        "id": "UfmuVbimlLhP",
        "outputId": "d7fb9bf2-7a4d-4ed1-ceff-96c77097eeb1"
      },
      "execution_count": 49,
      "outputs": [
        {
          "output_type": "execute_result",
          "data": {
            "text/plain": [
              "[Product(name='apple', price=1000),\n",
              " Product(name='banana', price=2000),\n",
              " Product(name='orange', price=3000)]"
            ]
          },
          "metadata": {},
          "execution_count": 49
        }
      ]
    },
    {
      "cell_type": "markdown",
      "source": [
        "side_effect 로 동일한 함수를 연속적으로 호출했을때 순차적으로 어떻게 반응해야 하는지를 정의하기 위해서는 이터러블한 객체로 전달해주는 방법이 존재한다. 아래 예시와 함께 살펴보자."
      ],
      "metadata": {
        "id": "gl7ur52yt1gM"
      }
    },
    {
      "cell_type": "code",
      "source": [
        "mock = MagicMock()\n",
        "mock.is_exist.side_effect = [False, True, True]\n",
        "for product in products:\n",
        "  print(product)\n",
        "\n",
        "  if mock.is_exist(product):\n",
        "    continue\n",
        "\n",
        "  print(f\"filtered product: {product}\")"
      ],
      "metadata": {
        "colab": {
          "base_uri": "https://localhost:8080/"
        },
        "id": "yCX6TR5plnaj",
        "outputId": "5d342c33-4340-4837-ddff-24970753964c"
      },
      "execution_count": 53,
      "outputs": [
        {
          "output_type": "stream",
          "name": "stdout",
          "text": [
            "Product(name='apple', price=1000)\n",
            "filtered product: Product(name='apple', price=1000)\n",
            "Product(name='banana', price=2000)\n",
            "Product(name='orange', price=3000)\n"
          ]
        }
      ]
    },
    {
      "cell_type": "markdown",
      "source": [
        "위와 같이 순차적으로 제시하는 방법도 있지만, 더욱 명확하게 하기 위해서는 특정 인자가 들어왔을때 특정값을 리턴하도록 하는 방법도 존재합니다."
      ],
      "metadata": {
        "id": "cIgopCpduct3"
      }
    },
    {
      "cell_type": "code",
      "source": [
        "from unittest.mock import MagicMock\n",
        "\n",
        "# 1. 키를 (키, 값) 쌍의 정렬된 튜플로 변경\n",
        "expected_results = {\n",
        "    (('x', 1), ('y', 2)): 3,\n",
        "    (('x', 4), ('y', 9)): 13\n",
        "}\n",
        "\n",
        "def side_effect_func(*args, **kwargs):\n",
        "    print(f\"args: {args}, kwargs: {kwargs}\")\n",
        "    if kwargs and isinstance(kwargs, dict):\n",
        "        input_dict = kwargs\n",
        "        # 입력 딕셔너리를 키 형식(정렬된 튜플)으로 변환\n",
        "        key = tuple(sorted(input_dict.items()))\n",
        "        if key in expected_results:\n",
        "            return expected_results[key]\n",
        "    # 예상치 못한 입력 처리 (옵션)\n",
        "    raise KeyError(f\"Arguments {args} not found in expected side effect results\")\n",
        "\n",
        "mock = MagicMock()\n",
        "mock.add.side_effect = side_effect_func\n",
        "\n",
        "# 테스트\n",
        "result1 = mock.add(x=1, y=2) # 순서가 달라도 정렬되므로 동일한 키로 인식\n",
        "result2 = mock.add(x=4, y=9)\n",
        "\n",
        "print(f\"Result 1: {result1}\")\n",
        "print(f\"Result 2: {result2}\")\n",
        "\n",
        "assert result1 == 3\n",
        "assert result2 == 13\n",
        "\n",
        "mock.add.assert_any_call(x=1, y=2)\n",
        "mock.add.assert_any_call(x=4, y=9)\n",
        "\n",
        "print(\"Test passed!\")"
      ],
      "metadata": {
        "colab": {
          "base_uri": "https://localhost:8080/"
        },
        "id": "OuhQFzsuuM1t",
        "outputId": "b271b017-bbf1-4b29-c60b-840a113de017"
      },
      "execution_count": 67,
      "outputs": [
        {
          "output_type": "stream",
          "name": "stdout",
          "text": [
            "args: (), kwargs: {'x': 1, 'y': 2}\n",
            "args: (), kwargs: {'x': 4, 'y': 9}\n",
            "Result 1: 3\n",
            "Result 2: 13\n",
            "Test passed!\n"
          ]
        }
      ]
    },
    {
      "cell_type": "markdown",
      "source": [
        "### patch.object\n",
        "\n",
        "위에서 우리가 배운 `patch` 는 여러가지 편의 데코레이터들을 제공하는데 그 중 하나인 [`patch.object`](https://docs.python.org/ko/3/library/unittest.mock.html#unittest.mock.patch.object) 에 대해서 다뤄보자. `patch.object` 는 주로 클래스 혹은 모듈의 속성(attribute) 를 패치할때 이용한다.\n",
        "\n"
      ],
      "metadata": {
        "id": "ZSLwebFv-Dc7"
      }
    },
    {
      "cell_type": "code",
      "source": [
        "class Someclass:\n",
        "\n",
        "  attribute = 1\n",
        "\n",
        "  def __init__(self) -> None:\n",
        "    pass"
      ],
      "metadata": {
        "id": "Oo7NEE3s8tPN"
      },
      "execution_count": 73,
      "outputs": []
    },
    {
      "cell_type": "code",
      "source": [
        "from unittest.mock import patch, sentinel\n",
        "\n",
        "# 원본 속성값을 original 에 저장\n",
        "original = Someclass.attribute\n",
        "print(f\"[Outer Test] attribute value of Someclass.attribute: {Someclass.attribute}\")\n",
        "print(f\"[Outer Test] attribute value of original: {original}\")\n",
        "\n",
        "@patch.object(Someclass, 'attribute', sentinel.attribute)\n",
        "# patch object 를 통해서 attribute 바꾸기 (sentinel.attribute 로)\n",
        "def test():\n",
        "    print(f\"[In test] attribute value of Someclass.attribute: {Someclass.attribute}\")\n",
        "    print(f\"[In test] attribute value of Someclass.attribute: {sentinel.attribute}\")\n",
        "    print(f\"[In test] attribute value of original: {original}\")\n",
        "    assert Someclass.attribute == sentinel.attribute\n",
        "\n",
        "test()\n",
        "print(f\"[Outer Test] attribute value of Someclass.attribute: {Someclass.attribute}\")\n",
        "print(f\"[Outer Test] attribute value of original: {original}\")\n",
        "assert Someclass.attribute == original"
      ],
      "metadata": {
        "colab": {
          "base_uri": "https://localhost:8080/"
        },
        "id": "P4vt-5JR8zic",
        "outputId": "40d66b87-2828-45ad-bde7-5bedff8f19db"
      },
      "execution_count": 87,
      "outputs": [
        {
          "output_type": "stream",
          "name": "stdout",
          "text": [
            "[Outer Test] attribute value of Someclass.attribute: 1\n",
            "[Outer Test] attribute value of original: 1\n",
            "[In test] attribute value of Someclass.attribute: sentinel.attribute\n",
            "[In test] attribute value of Someclass.attribute: sentinel.attribute\n",
            "[In test] attribute value of original: 1\n",
            "[Outer Test] attribute value of Someclass.attribute: 1\n",
            "[Outer Test] attribute value of original: 1\n"
          ]
        }
      ]
    },
    {
      "cell_type": "markdown",
      "source": [
        "위의 예시를 보면 test 범위에서는 Someclass 의 `attribute` 가 `sentinel.attribute` 값으로 변경된 것을 확인할 수 있다. 다만, 다시 밖으로 나와서는 `sentinel.attribute` 가 아닌 기존 값인 `1` 임을 확인할 수 가 있다. 이는 우리가 계속해서 말했던 `patch` 가 지역범위안으로 임시적으로 이뤄지는 것임을 확인할 수 있다."
      ],
      "metadata": {
        "id": "57MSC_tMADFF"
      }
    },
    {
      "cell_type": "markdown",
      "source": [
        "### sentinel\n",
        "\n",
        "[**sentinel**](https://docs.python.org/ko/3.13/library/unittest.mock.html#sentinel) 은 무엇일까? sentinel 은 unittest 에서 고유한 attribute 생성시 쉽게 생성하고 이용하게 하기 위한 편의제공을 위해 존재합니다.\n",
        "\n",
        "예를 들어 우리가 만약 `foo` 라는 attribute 를 만들고 싶을때는 간단하게 아래 처럼 해주면 됩니다."
      ],
      "metadata": {
        "id": "TjV2BsqiAUd2"
      }
    },
    {
      "cell_type": "code",
      "source": [
        "from unittest.mock import patch, sentinel\n",
        "\n",
        "sentinel.foo"
      ],
      "metadata": {
        "colab": {
          "base_uri": "https://localhost:8080/"
        },
        "id": "XuI2ftKe9z9z",
        "outputId": "65c11ef5-0feb-46a8-e45d-b12240a47cfe"
      },
      "execution_count": 78,
      "outputs": [
        {
          "output_type": "execute_result",
          "data": {
            "text/plain": [
              "sentinel.foo"
            ]
          },
          "metadata": {},
          "execution_count": 78
        }
      ]
    },
    {
      "cell_type": "code",
      "source": [
        "sentinel.bar"
      ],
      "metadata": {
        "colab": {
          "base_uri": "https://localhost:8080/"
        },
        "id": "BTR0s98y9-iP",
        "outputId": "a65db1cf-f1cf-471a-9cb5-c9cc92aec5cd"
      },
      "execution_count": 79,
      "outputs": [
        {
          "output_type": "execute_result",
          "data": {
            "text/plain": [
              "sentinel.bar"
            ]
          },
          "metadata": {},
          "execution_count": 79
        }
      ]
    },
    {
      "cell_type": "code",
      "source": [
        "sentinel.foo == sentinel.bar"
      ],
      "metadata": {
        "colab": {
          "base_uri": "https://localhost:8080/"
        },
        "id": "N3koqaAO9_T2",
        "outputId": "198400e2-2230-4c84-dbba-869502d0c912"
      },
      "execution_count": 80,
      "outputs": [
        {
          "output_type": "execute_result",
          "data": {
            "text/plain": [
              "False"
            ]
          },
          "metadata": {},
          "execution_count": 80
        }
      ]
    },
    {
      "cell_type": "code",
      "source": [
        "sentinel.foo == sentinel.foo"
      ],
      "metadata": {
        "colab": {
          "base_uri": "https://localhost:8080/"
        },
        "id": "wUXVTnrnBoVZ",
        "outputId": "6f16eeb3-148c-4d1a-c85d-a68fd9eb5598"
      },
      "execution_count": 88,
      "outputs": [
        {
          "output_type": "execute_result",
          "data": {
            "text/plain": [
              "True"
            ]
          },
          "metadata": {},
          "execution_count": 88
        }
      ]
    },
    {
      "cell_type": "markdown",
      "source": [
        "**그래서 언제 사용하면 좋을까?**\n",
        "\n",
        "- 특정 객체가 반환 값으로 이용될때 => 고유한 값을 이용하므로 조금 더 트래킹 하기 좋다. (테스트에서 잘 반환되는지를 쉽게 테스트 할수 있음, sentinel 이라는 고유값으로 테스트 하므로)"
      ],
      "metadata": {
        "id": "EDl7KVnmBqur"
      }
    },
    {
      "cell_type": "code",
      "source": [
        "obj = sentinel.some_object\n",
        "\n",
        "mock = MagicMock()\n",
        "mock.method.return_value = obj\n",
        "\n",
        "mock.method() == obj"
      ],
      "metadata": {
        "colab": {
          "base_uri": "https://localhost:8080/"
        },
        "id": "F79Sty0_BqSD",
        "outputId": "ff41671c-b709-43ac-cd42-d8fd5048e9b8"
      },
      "execution_count": 89,
      "outputs": [
        {
          "output_type": "execute_result",
          "data": {
            "text/plain": [
              "True"
            ]
          },
          "metadata": {},
          "execution_count": 89
        }
      ]
    },
    {
      "cell_type": "markdown",
      "source": [
        "음, 도대체 어디에 써야하는건지 감이 잘 안올수가 있음. patch 를 mocking 할때 쓸수도 있지만 아래와 같은 상황에도 이용가능함."
      ],
      "metadata": {
        "id": "fuCw32nrClsv"
      }
    },
    {
      "cell_type": "code",
      "source": [
        "class RoachExternalApi:\n",
        "  api_key = None\n",
        "  ai_key = 1\n",
        "\n",
        "  def is_api_key_set(self) -> bool:\n",
        "    return self.api_key is not None"
      ],
      "metadata": {
        "id": "JYD1umC3Cqz2"
      },
      "execution_count": 97,
      "outputs": []
    },
    {
      "cell_type": "code",
      "source": [
        "original_value = RoachExternalApi.api_key\n",
        "print(f\"[OUTER_TEST] original_value: {original_value}\")\n",
        "\n",
        "@patch.object(RoachExternalApi, 'ai_key', None)\n",
        "def test():\n",
        "  \"\"\"\n",
        "  원래의 값이 None 이라면 예를 들면 위의 상황은 반드시 통과하게 되어 있음/\n",
        "  왜냐면 우리는 None 만 체크할 수 있기 때문임\n",
        "  \"\"\"\n",
        "  print(f\"[IN TEST] original_value: {original_value}\")\n",
        "  assert RoachExternalApi().is_api_key_set() == False\n",
        "  assert RoachExternalApi.api_key == None\n",
        "\n",
        "test()\n",
        "print(f\"[OUTER_TEST] original_value: {original_value}\")"
      ],
      "metadata": {
        "colab": {
          "base_uri": "https://localhost:8080/"
        },
        "id": "17GIvXFkCxuC",
        "outputId": "7356fa25-9847-4cbf-f418-1a7082755ea2"
      },
      "execution_count": 99,
      "outputs": [
        {
          "output_type": "stream",
          "name": "stdout",
          "text": [
            "[OUTER_TEST] original_value: None\n",
            "[IN TEST] original_value: None\n",
            "[OUTER_TEST] original_value: None\n"
          ]
        }
      ]
    },
    {
      "cell_type": "code",
      "source": [
        "original_value = RoachExternalApi.api_key\n",
        "print(f\"[OUTER_TEST] original_value: {original_value}\")\n",
        "\n",
        "@patch.object(RoachExternalApi, 'ai_key', sentinel.api_key)\n",
        "def test():\n",
        "  \"\"\"\n",
        "  하지만 sentinel.api_key 를 이용하면 기존에 의도한 속성으로 제대로 대치되었는지 확인가능함.\n",
        "  \"\"\"\n",
        "  print(f\"[IN TEST] original_value: {original_value}\")\n",
        "  assert RoachExternalApi().is_api_key_set() == False\n",
        "  assert RoachExternalApi.api_key == sentinel.api_key # error 발생\n",
        "\n",
        "test()\n",
        "print(f\"[OUTER_TEST] original_value: {original_value}\")"
      ],
      "metadata": {
        "colab": {
          "base_uri": "https://localhost:8080/",
          "height": 390
        },
        "id": "UvazQ2gLExRB",
        "outputId": "dcd6dc29-a2c8-43a6-c2bc-bd61a1a0dd4a"
      },
      "execution_count": 101,
      "outputs": [
        {
          "output_type": "stream",
          "name": "stdout",
          "text": [
            "[OUTER_TEST] original_value: None\n",
            "[IN TEST] original_value: None\n"
          ]
        },
        {
          "output_type": "error",
          "ename": "AssertionError",
          "evalue": "",
          "traceback": [
            "\u001b[0;31m---------------------------------------------------------------------------\u001b[0m",
            "\u001b[0;31mAssertionError\u001b[0m                            Traceback (most recent call last)",
            "\u001b[0;32m<ipython-input-101-15d4d86113b6>\u001b[0m in \u001b[0;36m<cell line: 0>\u001b[0;34m()\u001b[0m\n\u001b[1;32m     12\u001b[0m   \u001b[0;32massert\u001b[0m \u001b[0mRoachExternalApi\u001b[0m\u001b[0;34m.\u001b[0m\u001b[0mapi_key\u001b[0m \u001b[0;34m==\u001b[0m \u001b[0msentinel\u001b[0m\u001b[0;34m.\u001b[0m\u001b[0mapi_key\u001b[0m\u001b[0;34m\u001b[0m\u001b[0;34m\u001b[0m\u001b[0m\n\u001b[1;32m     13\u001b[0m \u001b[0;34m\u001b[0m\u001b[0m\n\u001b[0;32m---> 14\u001b[0;31m \u001b[0mtest\u001b[0m\u001b[0;34m(\u001b[0m\u001b[0;34m)\u001b[0m\u001b[0;34m\u001b[0m\u001b[0;34m\u001b[0m\u001b[0m\n\u001b[0m\u001b[1;32m     15\u001b[0m \u001b[0mprint\u001b[0m\u001b[0;34m(\u001b[0m\u001b[0;34mf\"[OUTER_TEST] original_value: {original_value}\"\u001b[0m\u001b[0;34m)\u001b[0m\u001b[0;34m\u001b[0m\u001b[0;34m\u001b[0m\u001b[0m\n",
            "\u001b[0;32m/usr/lib/python3.11/unittest/mock.py\u001b[0m in \u001b[0;36mpatched\u001b[0;34m(*args, **keywargs)\u001b[0m\n\u001b[1;32m   1376\u001b[0m                                         \u001b[0margs\u001b[0m\u001b[0;34m,\u001b[0m\u001b[0;34m\u001b[0m\u001b[0;34m\u001b[0m\u001b[0m\n\u001b[1;32m   1377\u001b[0m                                         keywargs) as (newargs, newkeywargs):\n\u001b[0;32m-> 1378\u001b[0;31m                 \u001b[0;32mreturn\u001b[0m \u001b[0mfunc\u001b[0m\u001b[0;34m(\u001b[0m\u001b[0;34m*\u001b[0m\u001b[0mnewargs\u001b[0m\u001b[0;34m,\u001b[0m \u001b[0;34m**\u001b[0m\u001b[0mnewkeywargs\u001b[0m\u001b[0;34m)\u001b[0m\u001b[0;34m\u001b[0m\u001b[0;34m\u001b[0m\u001b[0m\n\u001b[0m\u001b[1;32m   1379\u001b[0m \u001b[0;34m\u001b[0m\u001b[0m\n\u001b[1;32m   1380\u001b[0m         \u001b[0mpatched\u001b[0m\u001b[0;34m.\u001b[0m\u001b[0mpatchings\u001b[0m \u001b[0;34m=\u001b[0m \u001b[0;34m[\u001b[0m\u001b[0mself\u001b[0m\u001b[0;34m]\u001b[0m\u001b[0;34m\u001b[0m\u001b[0;34m\u001b[0m\u001b[0m\n",
            "\u001b[0;32m<ipython-input-101-15d4d86113b6>\u001b[0m in \u001b[0;36mtest\u001b[0;34m()\u001b[0m\n\u001b[1;32m     10\u001b[0m   \u001b[0mprint\u001b[0m\u001b[0;34m(\u001b[0m\u001b[0;34mf\"[IN TEST] original_value: {original_value}\"\u001b[0m\u001b[0;34m)\u001b[0m\u001b[0;34m\u001b[0m\u001b[0;34m\u001b[0m\u001b[0m\n\u001b[1;32m     11\u001b[0m   \u001b[0;32massert\u001b[0m \u001b[0mRoachExternalApi\u001b[0m\u001b[0;34m(\u001b[0m\u001b[0;34m)\u001b[0m\u001b[0;34m.\u001b[0m\u001b[0mis_api_key_set\u001b[0m\u001b[0;34m(\u001b[0m\u001b[0;34m)\u001b[0m \u001b[0;34m==\u001b[0m \u001b[0;32mFalse\u001b[0m\u001b[0;34m\u001b[0m\u001b[0;34m\u001b[0m\u001b[0m\n\u001b[0;32m---> 12\u001b[0;31m   \u001b[0;32massert\u001b[0m \u001b[0mRoachExternalApi\u001b[0m\u001b[0;34m.\u001b[0m\u001b[0mapi_key\u001b[0m \u001b[0;34m==\u001b[0m \u001b[0msentinel\u001b[0m\u001b[0;34m.\u001b[0m\u001b[0mapi_key\u001b[0m\u001b[0;34m\u001b[0m\u001b[0;34m\u001b[0m\u001b[0m\n\u001b[0m\u001b[1;32m     13\u001b[0m \u001b[0;34m\u001b[0m\u001b[0m\n\u001b[1;32m     14\u001b[0m \u001b[0mtest\u001b[0m\u001b[0;34m(\u001b[0m\u001b[0;34m)\u001b[0m\u001b[0;34m\u001b[0m\u001b[0;34m\u001b[0m\u001b[0m\n",
            "\u001b[0;31mAssertionError\u001b[0m: "
          ]
        }
      ]
    },
    {
      "cell_type": "markdown",
      "source": [
        "조금은 억지스러운 테스트라고 생각할수도 있지만, sentinel.api_key 를 이용하면 기존에 의도한 속성으로 제대로 대치되었는지 확인가능함. 이렇게 속성값이 잘 대치되는지 확인해야 하는 부분에는 `sentinel` 을 이용한 고유값을 이용하는게 좋음."
      ],
      "metadata": {
        "id": "hBhykHRRFAn3"
      }
    }
  ]
}